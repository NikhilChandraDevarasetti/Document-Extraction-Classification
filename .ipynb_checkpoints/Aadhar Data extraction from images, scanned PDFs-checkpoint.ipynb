{
 "cells": [
  {
   "cell_type": "code",
   "execution_count": 3,
   "metadata": {
    "collapsed": true
   },
   "outputs": [
    {
     "name": "stdout",
     "output_type": "stream",
     "text": [
      "Requirement already satisfied: PyPDF2 in c:\\users\\nikki\\anaconda3\\lib\\site-packages (1.26.0)\n",
      "Note: you may need to restart the kernel to use updated packages.\n"
     ]
    },
    {
     "name": "stderr",
     "output_type": "stream",
     "text": [
      "WARNING: Ignoring invalid distribution -umpy (c:\\users\\nikki\\anaconda3\\lib\\site-packages)\n",
      "WARNING: Ignoring invalid distribution -umpy (c:\\users\\nikki\\anaconda3\\lib\\site-packages)\n",
      "WARNING: Ignoring invalid distribution -umpy (c:\\users\\nikki\\anaconda3\\lib\\site-packages)\n",
      "WARNING: Ignoring invalid distribution -umpy (c:\\users\\nikki\\anaconda3\\lib\\site-packages)\n",
      "WARNING: Ignoring invalid distribution -umpy (c:\\users\\nikki\\anaconda3\\lib\\site-packages)\n"
     ]
    }
   ],
   "source": [
    "# pip install PyPDF2"
   ]
  },
  {
   "cell_type": "code",
   "execution_count": 101,
   "metadata": {
    "collapsed": true
   },
   "outputs": [
    {
     "name": "stdout",
     "output_type": "stream",
     "text": [
      "Collecting wand\n",
      "  Downloading Wand-0.6.7-py2.py3-none-any.whl (139 kB)\n",
      "     -------------------------------------- 139.2/139.2 KB 8.6 MB/s eta 0:00:00\n",
      "Installing collected packages: wand\n",
      "Successfully installed wand-0.6.7\n",
      "Note: you may need to restart the kernel to use updated packages.\n"
     ]
    },
    {
     "name": "stderr",
     "output_type": "stream",
     "text": [
      "WARNING: Ignoring invalid distribution -umpy (c:\\users\\nikki\\anaconda3\\lib\\site-packages)\n",
      "WARNING: Ignoring invalid distribution -umpy (c:\\users\\nikki\\anaconda3\\lib\\site-packages)\n",
      "WARNING: Ignoring invalid distribution -umpy (c:\\users\\nikki\\anaconda3\\lib\\site-packages)\n",
      "WARNING: Ignoring invalid distribution -umpy (c:\\users\\nikki\\anaconda3\\lib\\site-packages)\n",
      "WARNING: Ignoring invalid distribution -umpy (c:\\users\\nikki\\anaconda3\\lib\\site-packages)\n",
      "WARNING: Ignoring invalid distribution -umpy (c:\\users\\nikki\\anaconda3\\lib\\site-packages)\n",
      "WARNING: Ignoring invalid distribution -umpy (c:\\users\\nikki\\anaconda3\\lib\\site-packages)\n",
      "WARNING: You are using pip version 22.0.4; however, version 22.1 is available.\n",
      "You should consider upgrading via the 'C:\\Users\\Nikki\\anaconda3\\python.exe -m pip install --upgrade pip' command.\n"
     ]
    }
   ],
   "source": [
    "pip install wand"
   ]
  },
  {
   "cell_type": "code",
   "execution_count": 3,
   "metadata": {
    "collapsed": true
   },
   "outputs": [
    {
     "name": "stdout",
     "output_type": "stream",
     "text": [
      "Collecting PyMuPDF\n",
      "  Downloading PyMuPDF-1.19.6-cp38-cp38-win_amd64.whl (6.4 MB)\n",
      "     ---------------------------------------- 6.4/6.4 MB 7.4 MB/s eta 0:00:00\n",
      "Installing collected packages: PyMuPDF\n",
      "Successfully installed PyMuPDF-1.19.6\n",
      "Note: you may need to restart the kernel to use updated packages.\n"
     ]
    },
    {
     "name": "stderr",
     "output_type": "stream",
     "text": [
      "WARNING: Ignoring invalid distribution -umpy (c:\\users\\nikki\\anaconda3\\lib\\site-packages)\n",
      "WARNING: Ignoring invalid distribution -umpy (c:\\users\\nikki\\anaconda3\\lib\\site-packages)\n",
      "WARNING: Ignoring invalid distribution -umpy (c:\\users\\nikki\\anaconda3\\lib\\site-packages)\n",
      "WARNING: Ignoring invalid distribution -umpy (c:\\users\\nikki\\anaconda3\\lib\\site-packages)\n",
      "WARNING: Ignoring invalid distribution -umpy (c:\\users\\nikki\\anaconda3\\lib\\site-packages)\n",
      "WARNING: Ignoring invalid distribution -umpy (c:\\users\\nikki\\anaconda3\\lib\\site-packages)\n"
     ]
    }
   ],
   "source": [
    "pip install PyMuPDF"
   ]
  },
  {
   "cell_type": "markdown",
   "metadata": {},
   "source": [
    "# Extracting text from Normal multipage PDFs"
   ]
  },
  {
   "cell_type": "code",
   "execution_count": 1,
   "metadata": {},
   "outputs": [],
   "source": [
    "import PyPDF2 as p2\n",
    "from PyPDF2 import PdfFileReader"
   ]
  },
  {
   "cell_type": "code",
   "execution_count": 7,
   "metadata": {
    "scrolled": true
   },
   "outputs": [
    {
     "name": "stdout",
     "output_type": "stream",
     "text": [
      "   \n",
      "   \n",
      "   \n",
      "   \n",
      "   \n",
      "   \n",
      "   \n",
      " \n",
      " \n",
      "05-May-2022\n",
      " \n",
      "Dear \n",
      "Srinivas Yalagam,\n",
      " \n",
      "Congratulations! We are delighted to inform that you have been admitted into the\n",
      " \n",
      "M.Sc. in\n",
      "Machine Learning & AI\n",
      " by upGrad Education Private Limited in association with IIIT Bangalore &\n",
      "LJMU.\n",
      " \n",
      "We received a number of applications for this \n",
      "Program\n",
      " \n",
      "and your academic & professional qualifications\n",
      "stood out amongst a strong pool of candidates. \n",
      "Furthermore, your score achieved in the entrance test\n",
      "assured you a place in this incoming batch.\n",
      "The Program begins on\n",
      " \n",
      "31-May-2022\n",
      ".\n",
      " \n",
      "However, we will be commencing with the preparatory sessions\n",
      "immediately as soon as you deposit the caution amount\n",
      ".\n",
      " \n",
      "This Program is in association with IIIT Bangalore & LJMU where the first 12 months will be delivered\n",
      "by IIIT Bangalore for the Executive PG \n",
      "Programme\n",
      " \n",
      "in Machine Learning & AI and the final 6 months\n",
      "will be delivered by LJMU for M.Sc. in Machine Learning & AI. Upon completion of Executive PG\n",
      "Programme\n",
      " \n",
      "in Machine Learning & AI and before the commencement of M.Sc. in Machine Learning and\n",
      "Artificial Intelligence by LJMU, a bridge course shall be conducted by upGrad. The total duration of the\n",
      "Program may vary depending on the month of enrolment.\n",
      "To be eligible for getting any certification from LJMU, a learner should get greater than or equal to 2.4\n",
      "CGPA (Cumulative Grade Point Average) in the \n",
      "Executive PG \n",
      "Programme\n",
      " \n",
      "in\n",
      " \n",
      "Machine Learning & AI.\n",
      " \n",
      "We look forward to welcoming you as part of the upGrad family and congratulate you once again on\n",
      "your admission.\n",
      " \n",
      "With best wishes,\n",
      "Mayank Kumar\n",
      "(Co-Founder & MD, upGrad)\n",
      "\n",
      " \n",
      "   \n",
      "   \n",
      "   \n",
      "   \n",
      "   \n",
      "   \n",
      "   \n",
      "   \n",
      "   \n",
      " \n",
      "INTERNATIONAL INSTITUTE OF INFORMATION\n",
      "TECHNOLOGY BANGALORE (IIIT Bangalore)\n",
      "(Deemed University)\n",
      "&\n",
      "UPGRAD\n",
      " \n",
      "05-May-2022\n",
      " \n",
      "Dear \n",
      "Srinivas Yalagam,\n",
      "Congratulations! We are pleased to inform that you have been admitted to the \n",
      "Executive PG\n",
      "Programme\n",
      " \n",
      "in Machine Learning and AI \n",
      "Program by IIIT Bangalore and upGrad Education Private\n",
      "Limited\n",
      ".\n",
      "The Admissions Committee has based its decision on a rigorous selection criterion, including prior\n",
      "educational qualifications, work profile, and the online test performance. \n",
      "Congratulations once again for\n",
      "being among the selective pool of students.\n",
      " \n",
      "We look forward to your enrollment into the Program before the last date. In case of any further enquiry,\n",
      "write to us on \n",
      "admissions@upgrad.com \n",
      "or call on \n",
      "18002102020\n",
      ".\n",
      " \n",
      " \n",
      "With best wishes,\n",
      " \n",
      "Dr. V. Sridhar\n",
      "(Professor in-charge, Continuing Professional Education, IIITB)\n",
      "&\n",
      "Mayank Kumar\n",
      "(Co-Founder & MD, upGrad)\n",
      "\n",
      " \n",
      "   \n",
      "   \n",
      "   \n",
      "   \n",
      "   \n",
      "   \n",
      "   \n",
      "   \n",
      " \n",
      " \n",
      "LIVERPOOL JOHN MOORES UNIVERSITY\n",
      "&\n",
      "UPGRAD\n",
      " \n",
      "05-May-2022\n",
      " \n",
      "Dear \n",
      "Srinivas Yalagam,\n",
      "It is with great pleasure that we inform you of your admittance to the \n",
      "M.Sc. in\n",
      "Machine Learning & AI\n",
      " \n",
      "Program\n",
      " \n",
      "(hereinafter referred to as \n",
      "ﬁ\n",
      "Program\n",
      "ﬂ\n",
      ") \n",
      "by upGrad Education Private\n",
      "Limited \n",
      "(hereinafter referred to as \n",
      "ﬁ\n",
      "upGrad\n",
      "ﬂ\n",
      ")\n",
      " \n",
      "in association with LJMU\n",
      ".\n",
      " \n",
      "LJMU believes in a strict selection criterion which include your prior qualifications (both academic &\n",
      "professional) \n",
      "& your performance in the entrance test which has been especially designed to assess your\n",
      "aptitude for this rigorous \n",
      "Program\n",
      ". As such, we would like to congratulate you for being one of the few\n",
      "who qualify to undertake this \n",
      "Program\n",
      ".\n",
      " \n",
      "Your applicant ID is APFE22n00325. Congratulations once again for being among the selective pool of\n",
      "students.\n",
      " \n",
      "We look forward to your enrollment into the Program. In case of any further enquiry, write to us on\n",
      "admissions@upgrad.com \n",
      "or call on \n",
      "18002102020\n",
      ".\n",
      " \n",
      " \n",
      "With best wishes,\n",
      "Mayank Kumar\n",
      "(Co-Founder & MD, upGrad)\n",
      "\n",
      " \n",
      "Terms & Conditions:\n",
      " \n",
      "To confirm your acceptance of the offer, please complete the admission formalities as per the following\n",
      "timelines:\n",
      "l\n",
      "Caution Amount \n",
      "(refer to Table \n",
      "A\n",
      ")\n",
      " \n",
      "to be paid within a day of receiving this Offer Letter.\n",
      "l\n",
      "You will have to complete the balance payment within seven (7) days of payment of caution\n",
      "amount or by the cohort start date (whichever is earlier). You can pay the balance payment using\n",
      "one of the following options:\n",
      "o\n",
      "You can use \n",
      "Netbanking\n",
      ", Credit card or Debit card to complete the balance payment.\n",
      "o\n",
      "You can apply for an EMI loan. You need to submit the loan application form and\n",
      "ensure that all loan related formalities are completed within seven (7) days from the date\n",
      "of the caution amount payment or by the cohort start date (whichever is earlier).\n",
      "Table \n",
      "‚\n",
      "A\n",
      "™\n",
      ":\n",
      "Particulars\n",
      "Amount Inclusive of all taxes\n",
      "Caution Amount\n",
      "INR 25000\n",
      "Balance Fee\n",
      "INR 473999\n",
      "Total Program Fee\n",
      "INR 498999\n",
      "To complete your payment formalities please visit \n",
      "here.\n",
      "https://www.upgrad.com/paymentv2/?courseKey=masters-ml-iiitb-ljmu-pp&programUrlKey=masters-\n",
      "ml-iiitb-ljmu-pp\n",
      "You can refer to our refund and deferral policy in detail \n",
      "here.\n",
      " \n",
      "Student Information Validation\n",
      " \n",
      "As a part of the mandatory documents\n",
      "™ \n",
      "verification process of IIIT Bangalore, we request you to submit\n",
      "the documents mentioned below:\n",
      "l\n",
      "Scanned copy of Official Marksheet and Under Graduation degree\n",
      ".\n",
      "l\n",
      "Scanned copy of Identity proof (PAN Card or Passport). It should have your Full Name and Date\n",
      "of Birth\n",
      " clearly mentioned on it. This document will be referred to by the University for printing\n",
      "your\n",
      " name on the certificate.\n",
      " \n",
      "l\n",
      "Scanned copy of two passport size photographs\n",
      " \n",
      "Please note,\n",
      " do not share your documents over email. It is mandatory to share your documents in the\n",
      "below form via zipped file.\n",
      " \n",
      " \n",
      "Link to the form for submission: \n",
      "Click Here\n",
      " \n",
      "Please follow this naming convention for you file/zip folder: <your registered email ID>\n",
      " \n",
      "The last date to share the documents is within\n",
      " \n",
      "seven (7) days of payment of caution amount or by\n",
      "the cohort start date (whichever is earlier).\n",
      " Failing to submit all the documents as per the timeline\n",
      "mentioned above will result in your automatic deferral to the immediate next cohort of the Program.\n",
      "  In case of delay \n",
      "in submission as per the afore-mentioned timeline, learner shall not be eligible for\n",
      "refund once the Program commences. \n",
      "You can avail of a refund of your tuition \n",
      "anytime\n",
      " \n",
      "before the\n",
      "Cohort Commencement Date. Processing and administrative fee of Rs. 10,000/- will be levied for\n",
      "cancellation\n",
      ".\n",
      "For more detail on refund please refer our refund policy.\n",
      " \n",
      "In case the required documents are not submitted by the mentioned due date or that if discrepancies are\n",
      "found between the application and self-attested documents, your admission may stand cancelled at any\n",
      "time in the duration of the Program, and the amount paid by you towards the Program fee will be non-\n",
      "refundable under any circumstances.\n",
      "\n",
      "Welcome once again to the Machine Learning & AI community. We look forward to hearing from you.\n",
      "In case of any further inquiry, you may please send an email to \n",
      "admissions@upgrad.com \n",
      "or call on\n",
      "18002102020\n",
      ".\n",
      "\n"
     ]
    }
   ],
   "source": [
    "# Extracting single page\n",
    "reader = PdfFileReader(\"C:/Users/Nikki/Downloads/Upgrad Resources/NeoSOFT Projects/Doc Extraction Classification/Admission Offer.pdf\", \"rb\")\n",
    "number_of_pages = reader.numPages\n",
    "# print(number_of_pages)\n",
    "# page = reader.pages[0]\n",
    "# text = page.extractText()\n",
    "# print(text)\n",
    "\n",
    "\n",
    "#Extract all pages\n",
    "\n",
    "i = 0\n",
    "while i < number_of_pages:\n",
    "    page = reader.pages[i]\n",
    "    text = page.extractText()\n",
    "    print(text)\n",
    "    i += 1"
   ]
  },
  {
   "cell_type": "markdown",
   "metadata": {},
   "source": [
    "# Extracting Images from multipage PDFs"
   ]
  },
  {
   "cell_type": "code",
   "execution_count": 11,
   "metadata": {
    "collapsed": true
   },
   "outputs": [
    {
     "name": "stdout",
     "output_type": "stream",
     "text": [
      "Collecting fitz\n",
      "  Downloading fitz-0.0.1.dev2-py2.py3-none-any.whl (20 kB)\n",
      "Collecting pyxnat\n",
      "  Downloading pyxnat-1.4.tar.gz (78 kB)\n",
      "     ---------------------------------------- 78.2/78.2 KB 4.5 MB/s eta 0:00:00\n",
      "  Preparing metadata (setup.py): started\n",
      "  Preparing metadata (setup.py): finished with status 'done'\n",
      "Collecting configparser\n",
      "  Downloading configparser-5.2.0-py3-none-any.whl (19 kB)\n",
      "Requirement already satisfied: scipy in c:\\users\\nikki\\anaconda3\\lib\\site-packages (from fitz) (1.5.0)\n",
      "Requirement already satisfied: pandas in c:\\users\\nikki\\anaconda3\\lib\\site-packages (from fitz) (1.0.5)\n",
      "Collecting configobj\n",
      "  Downloading configobj-5.0.6.tar.gz (33 kB)\n",
      "  Preparing metadata (setup.py): started\n",
      "  Preparing metadata (setup.py): finished with status 'done'\n",
      "Requirement already satisfied: numpy in c:\\users\\nikki\\anaconda3\\lib\\site-packages (from fitz) (1.19.5)\n",
      "Collecting nibabel\n",
      "  Downloading nibabel-3.2.2-py3-none-any.whl (3.3 MB)\n",
      "     ---------------------------------------- 3.3/3.3 MB 5.2 MB/s eta 0:00:00\n",
      "Collecting nipype\n",
      "  Downloading nipype-1.8.0-py3-none-any.whl (3.2 MB)\n",
      "     ---------------------------------------- 3.2/3.2 MB 2.4 MB/s eta 0:00:00\n",
      "Collecting httplib2\n",
      "  Downloading httplib2-0.20.4-py3-none-any.whl (96 kB)\n",
      "     ---------------------------------------- 96.6/96.6 KB 1.8 MB/s eta 0:00:00\n",
      "Requirement already satisfied: six in c:\\users\\nikki\\anaconda3\\lib\\site-packages (from configobj->fitz) (1.15.0)\n",
      "Requirement already satisfied: pyparsing!=3.0.0,!=3.0.1,!=3.0.2,!=3.0.3,<4,>=2.4.2 in c:\\users\\nikki\\anaconda3\\lib\\site-packages (from httplib2->fitz) (2.4.7)\n",
      "Requirement already satisfied: setuptools in c:\\users\\nikki\\anaconda3\\lib\\site-packages (from nibabel->fitz) (60.5.0)\n",
      "Requirement already satisfied: packaging>=14.3 in c:\\users\\nikki\\anaconda3\\lib\\site-packages (from nibabel->fitz) (20.4)\n",
      "Requirement already satisfied: python-dateutil>=2.2 in c:\\users\\nikki\\anaconda3\\lib\\site-packages (from nipype->fitz) (2.8.1)\n",
      "Collecting etelemetry>=0.2.0\n",
      "  Downloading etelemetry-0.3.0-py3-none-any.whl (6.3 kB)\n",
      "Requirement already satisfied: click>=6.6.0 in c:\\users\\nikki\\anaconda3\\lib\\site-packages (from nipype->fitz) (7.1.2)\n",
      "Collecting traits!=5.0,>=4.6\n",
      "  Downloading traits-6.3.2-cp38-cp38-win_amd64.whl (5.0 MB)\n",
      "     ---------------------------------------- 5.0/5.0 MB 2.4 MB/s eta 0:00:00\n",
      "Collecting simplejson>=3.8.0\n",
      "  Downloading simplejson-3.17.6-cp38-cp38-win_amd64.whl (75 kB)\n",
      "     ---------------------------------------- 75.9/75.9 KB 2.1 MB/s eta 0:00:00\n",
      "Collecting prov>=1.5.2\n",
      "  Downloading prov-2.0.0-py3-none-any.whl (421 kB)\n",
      "     -------------------------------------- 421.5/421.5 KB 1.9 MB/s eta 0:00:00\n",
      "Collecting rdflib>=5.0.0\n",
      "  Downloading rdflib-6.1.1-py3-none-any.whl (482 kB)\n",
      "     -------------------------------------- 482.8/482.8 KB 3.4 MB/s eta 0:00:00\n",
      "Requirement already satisfied: filelock>=3.0.0 in c:\\users\\nikki\\anaconda3\\lib\\site-packages (from nipype->fitz) (3.6.0)\n",
      "Requirement already satisfied: networkx>=2.0 in c:\\users\\nikki\\anaconda3\\lib\\site-packages (from nipype->fitz) (2.4)\n",
      "Collecting pydot>=1.2.3\n",
      "  Downloading pydot-1.4.2-py2.py3-none-any.whl (21 kB)\n",
      "Requirement already satisfied: pytz>=2017.2 in c:\\users\\nikki\\anaconda3\\lib\\site-packages (from pandas->fitz) (2020.1)\n",
      "Requirement already satisfied: lxml>=4.3 in c:\\users\\nikki\\anaconda3\\lib\\site-packages (from pyxnat->fitz) (4.5.2)\n",
      "Requirement already satisfied: requests>=2.20 in c:\\users\\nikki\\anaconda3\\lib\\site-packages (from pyxnat->fitz) (2.24.0)\n",
      "Collecting pathlib>=1.0\n",
      "  Downloading pathlib-1.0.1-py3-none-any.whl (14 kB)\n",
      "Requirement already satisfied: future>=0.16 in c:\\users\\nikki\\anaconda3\\lib\\site-packages (from pyxnat->fitz) (0.18.2)\n",
      "Collecting ci-info>=0.2\n",
      "  Downloading ci_info-0.2.0-py3-none-any.whl (6.9 kB)\n",
      "Requirement already satisfied: decorator>=4.3.0 in c:\\users\\nikki\\anaconda3\\lib\\site-packages (from networkx>=2.0->nipype->fitz) (4.4.2)\n",
      "Collecting isodate\n",
      "  Downloading isodate-0.6.1-py2.py3-none-any.whl (41 kB)\n",
      "     ---------------------------------------- 41.7/41.7 KB ? eta 0:00:00\n",
      "Requirement already satisfied: idna<3,>=2.5 in c:\\users\\nikki\\anaconda3\\lib\\site-packages (from requests>=2.20->pyxnat->fitz) (2.10)\n",
      "Requirement already satisfied: chardet<4,>=3.0.2 in c:\\users\\nikki\\anaconda3\\lib\\site-packages (from requests>=2.20->pyxnat->fitz) (3.0.4)\n",
      "Requirement already satisfied: urllib3!=1.25.0,!=1.25.1,<1.26,>=1.21.1 in c:\\users\\nikki\\anaconda3\\lib\\site-packages (from requests>=2.20->pyxnat->fitz) (1.25.11)\n",
      "Requirement already satisfied: certifi>=2017.4.17 in c:\\users\\nikki\\anaconda3\\lib\\site-packages (from requests>=2.20->pyxnat->fitz) (2020.6.20)\n",
      "Building wheels for collected packages: configobj, pyxnat\n",
      "  Building wheel for configobj (setup.py): started\n",
      "  Building wheel for configobj (setup.py): finished with status 'done'\n",
      "  Created wheel for configobj: filename=configobj-5.0.6-py3-none-any.whl size=34547 sha256=81b8f8c7594f3ee5aa8679e9b9a90350e0945c65e43e50d4e4f25123698cc003\n",
      "  Stored in directory: c:\\users\\nikki\\appdata\\local\\pip\\cache\\wheels\\34\\2a\\24\\a490264ae9041fd48f778ff393526572c80bb498ddecb07ea5\n",
      "  Building wheel for pyxnat (setup.py): started\n",
      "  Building wheel for pyxnat (setup.py): finished with status 'done'\n",
      "  Created wheel for pyxnat: filename=pyxnat-1.4-py3-none-any.whl size=92687 sha256=25e0ff7b96c9dbd73b2f5cf960f0b0ea97481c18723d8a8daeb814c0ef8fb880\n",
      "  Stored in directory: c:\\users\\nikki\\appdata\\local\\pip\\cache\\wheels\\ab\\8c\\88\\43b445801349ef91dea1a2f7e572f20b9940320e27fb985faa\n",
      "Successfully built configobj pyxnat\n",
      "Installing collected packages: pathlib, traits, simplejson, pydot, isodate, httplib2, configparser, configobj, ci-info, rdflib, pyxnat, nibabel, etelemetry, prov, nipype, fitz\n",
      "Successfully installed ci-info-0.2.0 configobj-5.0.6 configparser-5.2.0 etelemetry-0.3.0 fitz-0.0.1.dev2 httplib2-0.20.4 isodate-0.6.1 nibabel-3.2.2 nipype-1.8.0 pathlib-1.0.1 prov-2.0.0 pydot-1.4.2 pyxnat-1.4 rdflib-6.1.1 simplejson-3.17.6 traits-6.3.2\n",
      "Note: you may need to restart the kernel to use updated packages.\n"
     ]
    },
    {
     "name": "stderr",
     "output_type": "stream",
     "text": [
      "WARNING: Ignoring invalid distribution -umpy (c:\\users\\nikki\\anaconda3\\lib\\site-packages)\n",
      "WARNING: Ignoring invalid distribution -umpy (c:\\users\\nikki\\anaconda3\\lib\\site-packages)\n",
      "WARNING: Ignoring invalid distribution -umpy (c:\\users\\nikki\\anaconda3\\lib\\site-packages)\n",
      "WARNING: Ignoring invalid distribution -umpy (c:\\users\\nikki\\anaconda3\\lib\\site-packages)\n",
      "WARNING: Ignoring invalid distribution -umpy (c:\\users\\nikki\\anaconda3\\lib\\site-packages)\n",
      "WARNING: Ignoring invalid distribution -umpy (c:\\users\\nikki\\anaconda3\\lib\\site-packages)\n",
      "WARNING: Ignoring invalid distribution -umpy (c:\\users\\nikki\\anaconda3\\lib\\site-packages)\n",
      "WARNING: Ignoring invalid distribution -umpy (c:\\users\\nikki\\anaconda3\\lib\\site-packages)\n",
      "WARNING: Ignoring invalid distribution -umpy (c:\\users\\nikki\\anaconda3\\lib\\site-packages)\n",
      "WARNING: Ignoring invalid distribution -umpy (c:\\users\\nikki\\anaconda3\\lib\\site-packages)\n",
      "WARNING: Ignoring invalid distribution -umpy (c:\\users\\nikki\\anaconda3\\lib\\site-packages)\n",
      "WARNING: Ignoring invalid distribution -umpy (c:\\users\\nikki\\anaconda3\\lib\\site-packages)\n",
      "WARNING: Ignoring invalid distribution -umpy (c:\\users\\nikki\\anaconda3\\lib\\site-packages)\n",
      "WARNING: Ignoring invalid distribution -umpy (c:\\users\\nikki\\anaconda3\\lib\\site-packages)\n",
      "WARNING: Ignoring invalid distribution -umpy (c:\\users\\nikki\\anaconda3\\lib\\site-packages)\n",
      "WARNING: Ignoring invalid distribution -umpy (c:\\users\\nikki\\anaconda3\\lib\\site-packages)\n",
      "WARNING: Ignoring invalid distribution -umpy (c:\\users\\nikki\\anaconda3\\lib\\site-packages)\n",
      "WARNING: Ignoring invalid distribution -umpy (c:\\users\\nikki\\anaconda3\\lib\\site-packages)\n",
      "WARNING: Ignoring invalid distribution -umpy (c:\\users\\nikki\\anaconda3\\lib\\site-packages)\n",
      "WARNING: Ignoring invalid distribution -umpy (c:\\users\\nikki\\anaconda3\\lib\\site-packages)\n",
      "WARNING: Ignoring invalid distribution -umpy (c:\\users\\nikki\\anaconda3\\lib\\site-packages)\n"
     ]
    }
   ],
   "source": [
    "pip install fitz"
   ]
  },
  {
   "cell_type": "code",
   "execution_count": 5,
   "metadata": {},
   "outputs": [
    {
     "name": "stdout",
     "output_type": "stream",
     "text": [
      "9 detected\n"
     ]
    }
   ],
   "source": [
    "import fitz\n",
    "\n",
    "path = \"C:/Users/Nikki/Downloads/Upgrad Resources/NeoSOFT Projects/Doc Extraction Classification/Admission Offer.pdf\"\n",
    "\n",
    "pdf = fitz.open(path)\n",
    "image_list = pdf.get_page_images(0)\n",
    "\n",
    "for image in image_list:\n",
    "    xref = image[0]\n",
    "    pix = fitz.Pixmap(pdf, xref)\n",
    "    if pix.n < 5:\n",
    "        pix.save(f'{xref}.png')\n",
    "    else:\n",
    "        pix1 = fitz.open(fitz.csRGB, pix)\n",
    "        pix1.save(f'{xref}.png')\n",
    "        pix1 = None\n",
    "    pix = None\n",
    "\n",
    "print(len(image_list), 'detected')"
   ]
  },
  {
   "cell_type": "markdown",
   "metadata": {},
   "source": [
    "# Data Extraaction from aadhar image (jpg, jpeg, png) files"
   ]
  },
  {
   "cell_type": "code",
   "execution_count": 8,
   "metadata": {
    "collapsed": true
   },
   "outputs": [
    {
     "name": "stdout",
     "output_type": "stream",
     "text": [
      "Requirement already satisfied: opencv-python in c:\\users\\nikki\\anaconda3\\lib\\site-packages (4.1.2.30)\n",
      "Requirement already satisfied: numpy>=1.17.3 in c:\\users\\nikki\\anaconda3\\lib\\site-packages (from opencv-python) (1.19.5)\n",
      "Note: you may need to restart the kernel to use updated packages.\n"
     ]
    },
    {
     "name": "stderr",
     "output_type": "stream",
     "text": [
      "WARNING: Ignoring invalid distribution -umpy (c:\\users\\nikki\\anaconda3\\lib\\site-packages)\n",
      "WARNING: Ignoring invalid distribution -umpy (c:\\users\\nikki\\anaconda3\\lib\\site-packages)\n",
      "WARNING: Ignoring invalid distribution -umpy (c:\\users\\nikki\\anaconda3\\lib\\site-packages)\n",
      "WARNING: Ignoring invalid distribution -umpy (c:\\users\\nikki\\anaconda3\\lib\\site-packages)\n",
      "WARNING: Ignoring invalid distribution -umpy (c:\\users\\nikki\\anaconda3\\lib\\site-packages)\n"
     ]
    }
   ],
   "source": [
    "pip install opencv-python\n"
   ]
  },
  {
   "cell_type": "code",
   "execution_count": 9,
   "metadata": {
    "collapsed": true
   },
   "outputs": [
    {
     "name": "stdout",
     "output_type": "stream",
     "text": [
      "Requirement already satisfied: pytesseract in c:\\users\\nikki\\anaconda3\\lib\\site-packages (0.3.8)\n",
      "Requirement already satisfied: Pillow in c:\\users\\nikki\\anaconda3\\lib\\site-packages (from pytesseract) (7.2.0)\n",
      "Note: you may need to restart the kernel to use updated packages.\n"
     ]
    },
    {
     "name": "stderr",
     "output_type": "stream",
     "text": [
      "WARNING: Ignoring invalid distribution -umpy (c:\\users\\nikki\\anaconda3\\lib\\site-packages)\n",
      "WARNING: Ignoring invalid distribution -umpy (c:\\users\\nikki\\anaconda3\\lib\\site-packages)\n",
      "WARNING: Ignoring invalid distribution -umpy (c:\\users\\nikki\\anaconda3\\lib\\site-packages)\n",
      "WARNING: Ignoring invalid distribution -umpy (c:\\users\\nikki\\anaconda3\\lib\\site-packages)\n",
      "WARNING: Ignoring invalid distribution -umpy (c:\\users\\nikki\\anaconda3\\lib\\site-packages)\n"
     ]
    }
   ],
   "source": [
    "pip install pytesseract\n"
   ]
  },
  {
   "cell_type": "code",
   "execution_count": 10,
   "metadata": {
    "collapsed": true
   },
   "outputs": [
    {
     "name": "stdout",
     "output_type": "stream",
     "text": [
      "Collecting tesseractNote: you may need to restart the kernel to use updated packages.\n"
     ]
    },
    {
     "name": "stderr",
     "output_type": "stream",
     "text": [
      "WARNING: Ignoring invalid distribution -umpy (c:\\users\\nikki\\anaconda3\\lib\\site-packages)\n",
      "WARNING: Ignoring invalid distribution -umpy (c:\\users\\nikki\\anaconda3\\lib\\site-packages)\n",
      "WARNING: Ignoring invalid distribution -umpy (c:\\users\\nikki\\anaconda3\\lib\\site-packages)\n",
      "WARNING: Ignoring invalid distribution -umpy (c:\\users\\nikki\\anaconda3\\lib\\site-packages)\n",
      "WARNING: Ignoring invalid distribution -umpy (c:\\users\\nikki\\anaconda3\\lib\\site-packages)\n",
      "WARNING: Ignoring invalid distribution -umpy (c:\\users\\nikki\\anaconda3\\lib\\site-packages)\n"
     ]
    },
    {
     "name": "stdout",
     "output_type": "stream",
     "text": [
      "\n",
      "  Downloading tesseract-0.1.3.tar.gz (45.6 MB)\n",
      "     ---------------------------------------- 45.6/45.6 MB 1.1 MB/s eta 0:00:00\n",
      "  Preparing metadata (setup.py): started\n",
      "  Preparing metadata (setup.py): finished with status 'done'\n",
      "Building wheels for collected packages: tesseract\n",
      "  Building wheel for tesseract (setup.py): started\n",
      "  Building wheel for tesseract (setup.py): finished with status 'done'\n",
      "  Created wheel for tesseract: filename=tesseract-0.1.3-py3-none-any.whl size=45562569 sha256=0d2fbaed3434acf8ea474ad31316bab81f494c30ffdffed6b20e515cb01fc970\n",
      "  Stored in directory: c:\\users\\nikki\\appdata\\local\\pip\\cache\\wheels\\7f\\a1\\69\\fabe07004553a36d818e4657fed410daf525fe1ae161f469d3\n",
      "Successfully built tesseract\n",
      "Installing collected packages: tesseract\n",
      "Successfully installed tesseract-0.1.3\n"
     ]
    }
   ],
   "source": [
    "pip install tesseract"
   ]
  },
  {
   "cell_type": "code",
   "execution_count": 11,
   "metadata": {
    "collapsed": true
   },
   "outputs": [
    {
     "name": "stdout",
     "output_type": "stream",
     "text": [
      "Collecting ftfyNote: you may need to restart the kernel to use updated packages.\n",
      "\n",
      "  Downloading ftfy-6.1.1-py3-none-any.whl (53 kB)\n"
     ]
    },
    {
     "name": "stderr",
     "output_type": "stream",
     "text": [
      "WARNING: Ignoring invalid distribution -umpy (c:\\users\\nikki\\anaconda3\\lib\\site-packages)\n",
      "WARNING: Ignoring invalid distribution -umpy (c:\\users\\nikki\\anaconda3\\lib\\site-packages)\n",
      "WARNING: Ignoring invalid distribution -umpy (c:\\users\\nikki\\anaconda3\\lib\\site-packages)\n",
      "WARNING: Ignoring invalid distribution -umpy (c:\\users\\nikki\\anaconda3\\lib\\site-packages)\n",
      "WARNING: Ignoring invalid distribution -umpy (c:\\users\\nikki\\anaconda3\\lib\\site-packages)\n",
      "WARNING: Ignoring invalid distribution -umpy (c:\\users\\nikki\\anaconda3\\lib\\site-packages)\n"
     ]
    },
    {
     "name": "stdout",
     "output_type": "stream",
     "text": [
      "     ---------------------------------------- 53.1/53.1 KB 1.3 MB/s eta 0:00:00\n",
      "Requirement already satisfied: wcwidth>=0.2.5 in c:\\users\\nikki\\anaconda3\\lib\\site-packages (from ftfy) (0.2.5)\n",
      "Installing collected packages: ftfy\n",
      "Successfully installed ftfy-6.1.1\n"
     ]
    }
   ],
   "source": [
    "pip install ftfy"
   ]
  },
  {
   "cell_type": "code",
   "execution_count": 1,
   "metadata": {},
   "outputs": [
    {
     "name": "stdout",
     "output_type": "stream",
     "text": [
      "mre nhl OT tJ | 4\n",
      "\n",
      "Yardy 039 / Enrollment No.: 2052/10989/67011\n",
      "\n",
      "To\n",
      "\n",
      "35598 VDE dog\n",
      "\n",
      "Devarasetti Nikhil Chandra\n",
      "S/O Devarasetti Upendram\n",
      "20-7-100/1 road number 13, sriram nagar\n",
      "near sriram hills khammam\n",
      "Khammam (Urban)\n",
      "Khammam\n",
      "\n",
      "Khammam (urban) Khammam\n",
      "Telangana 507001\n",
      "7032322151\n",
      "\n",
      "WAN) 0 000\n",
      "MA5727817\n",
      "\n",
      "78FT\n",
      "\n",
      "13/01/2013\n",
      "\n",
      "357278177\n",
      "\n",
      "ca RR ae ere\n",
      "ol oes a eecotet ag;\n",
      "\n",
      "Qo evar oan / Your Aadhaar No. :\n",
      "\n",
      "9101 5158 0896\n",
      "ar e9erd, a 60%)\n",
      "\n",
      "B5d8G IDS cogs\n",
      "Devarasetti Nikhil Chandra\n",
      "268 &4/ DOB : 10/08/1990\n",
      "weaved / Male\n",
      "\n",
      "5101 5158 0896 sea\n",
      "AP 8G, AP 60%)\n",
      "\n"
     ]
    }
   ],
   "source": [
    "from PIL import Image\n",
    "from pytesseract import pytesseract\n",
    "  \n",
    "# Defining paths to tesseract.exe \n",
    "# and the image we would be using\n",
    "path_to_tesseract = r\"C:\\Program Files\\Tesseract-OCR\\tesseract.exe\"\n",
    "\n",
    "  \n",
    "# Opening the image & storing it in an image object\n",
    "img = Image.open(\"aadhar_nikh.jpg\")\n",
    "  \n",
    "# Providing the tesseract \n",
    "# executable location to pytesseract library\n",
    "pytesseract.tesseract_cmd = path_to_tesseract\n",
    "  \n",
    "# Passing the image object to \n",
    "# image_to_string() function\n",
    "# This function will\n",
    "# extract the text from the image\n",
    "text = pytesseract.image_to_string(img)\n",
    "  \n",
    "# Displaying the extracted text\n",
    "print(text[:-1])\n",
    "\n"
   ]
  },
  {
   "cell_type": "markdown",
   "metadata": {},
   "source": [
    "## Define aadhar_read_data class to process and extract required text"
   ]
  },
  {
   "cell_type": "code",
   "execution_count": 12,
   "metadata": {},
   "outputs": [],
   "source": [
    "import re\n",
    "\n",
    "def findname(textlist , wordstring) :\n",
    "    lineno = -1\n",
    "    for wordline in textlist :\n",
    "        xx = wordline.split()\n",
    "        if ([ w for w in xx if re.search(wordstring , w) ]) :\n",
    "            lineno = textlist.index(wordline)\n",
    "            textlist = textlist[lineno -1]\n",
    "            return textlist\n",
    "    return textlist\n",
    "\n",
    "\n",
    "def adhaar_read_data(text) :\n",
    "    res = text.split()\n",
    "    name = None\n",
    "    dob = None\n",
    "    adh = None\n",
    "    sex = None\n",
    "    nameline = [ ]\n",
    "    dobline = [ ]\n",
    "    text0 = [ ]\n",
    "    text1 = [ ]\n",
    "    text2 = [ ]\n",
    "    lines = text.split('\\n')\n",
    "    for lin in lines :\n",
    "        s = lin.strip()\n",
    "        text1.append(s)\n",
    "\n",
    "    if 'female' in text.lower() :\n",
    "        sex = \"FEMALE\"\n",
    "    else :\n",
    "        sex = \"MALE\"\n",
    "\n",
    "    text1 = list(filter(None , text1))\n",
    "    text0 = text1[ : ]\n",
    "\n",
    "    try :\n",
    "\n",
    "        # Cleaning DOB\n",
    "            \n",
    "        for i in text0[-6: -3]:\n",
    "            date = '(\\d{1,2})/(\\d{1,2})/(\\d{4})'\n",
    "\n",
    "            if re.search(date, i) :\n",
    "                dob = re.search(date, i).group()\n",
    "            else:\n",
    "                pass\n",
    "            \n",
    "        # Cleaning first names\n",
    "        \n",
    "        for i in text0[-6:-3]:\n",
    "            date = '(\\d{1,2})/(\\d{1,2})/(\\d{4})'\n",
    "\n",
    "            if re.search(date, i):\n",
    "                lineno = text0.index(i)\n",
    "                name = text0[lineno-1]\n",
    "            else:\n",
    "                pass\n",
    "#         name = findname(text0, \":\")\n",
    "        \n",
    "        \n",
    "        #name = re.sub('[^a-zA-Z] +' , ' ' , name)\n",
    "\n",
    "\n",
    "        # Cleaning Adhaar number details\n",
    "        for i in text0[-6:]:\n",
    "            aadhar = '(\\d{4} \\d{4} \\d{4})'\n",
    "            \n",
    "            if re.search(aadhar, i) :\n",
    "                adh = re.search(aadhar, i).group()\n",
    "            else:\n",
    "                pass\n",
    "        \n",
    "#         aadhar_number = ''\n",
    "#         for word in res:\n",
    "#             if len(word) == 4 and word.isdigit():\n",
    "#                 aadhar_number = aadhar_number + word + ' '\n",
    "#         if 14 <= len(aadhar_number) <= 15 :\n",
    "#             print(\"Aadhar number is :\" + aadhar_number)\n",
    "#         else :\n",
    "#             print(\"Aadhar number not read\")\n",
    "#         adh = aadhar_number\n",
    "\n",
    "\n",
    "\n",
    "    except :\n",
    "        pass\n",
    "\n",
    "    data = {}\n",
    "    data[ 'Name' ] = name\n",
    "    data[ 'Date of Birth' ] = dob\n",
    "    data[ 'Adhaar Number' ] = adh\n",
    "    data[ 'Sex' ] = sex\n",
    "    data[ 'ID Type' ] = \"Adhaar\"\n",
    "    return data\n"
   ]
  },
  {
   "cell_type": "code",
   "execution_count": 13,
   "metadata": {},
   "outputs": [
    {
     "name": "stdout",
     "output_type": "stream",
     "text": [
      "{'Name': 'Devarasetti Nikhil Chandra', 'Date of Birth': '10/08/1990', 'Adhaar Number': '5101 5158 0896', 'Sex': 'MALE', 'ID Type': 'Adhaar'}\n"
     ]
    }
   ],
   "source": [
    "print(adhaar_read_data(text))"
   ]
  },
  {
   "cell_type": "code",
   "execution_count": 4,
   "metadata": {},
   "outputs": [
    {
     "name": "stdout",
     "output_type": "stream",
     "text": [
      "A308) DDS dog\n",
      "Devarasetti Nikhil Chandra\n",
      "289 84 / DOB : 10/08/1990\n",
      "\n",
      "| Doxcd/ Male\n",
      "\n",
      "5101 5158 0896\n",
      "WP Bard, A 80%»\n"
     ]
    }
   ],
   "source": [
    "img = Image.open(\"aadhar nikh.jpg\")\n",
    "Nikki = pytesseract.image_to_string(img)\n",
    "  \n",
    "# Displaying the extracted text\n",
    "print(Nikki[:-1])"
   ]
  },
  {
   "cell_type": "code",
   "execution_count": 6,
   "metadata": {},
   "outputs": [
    {
     "name": "stdout",
     "output_type": "stream",
     "text": [
      "Aadhar number is :5101 5158 0896 \n",
      "{'Name': 'Devarasetti Nikhil Chandra', 'Date of Birth': '10/08/1990', 'Adhaar Number': '5101 5158 0896 ', 'Sex': 'MALE', 'ID Type': 'Adhaar'}\n"
     ]
    }
   ],
   "source": [
    "print(adhaar_read_data(Nikki))"
   ]
  },
  {
   "cell_type": "code",
   "execution_count": 7,
   "metadata": {},
   "outputs": [
    {
     "name": "stdout",
     "output_type": "stream",
     "text": [
      "] Adw Sasaotod) dard\n",
      "Godaba Kanakamahalakshmi Tejashwini\n",
      "app} 34 / 008: 10/09/1994\n",
      "\n",
      ". | 4/ Female\n",
      "H\n",
      "\n",
      "7166 0230 3578\n"
     ]
    }
   ],
   "source": [
    "img = Image.open(\"aadhar_teju.jpg\")\n",
    "teju = pytesseract.image_to_string(img)\n",
    "  \n",
    "# Displaying the extracted text\n",
    "print(teju[:-1])"
   ]
  },
  {
   "cell_type": "code",
   "execution_count": 9,
   "metadata": {},
   "outputs": [
    {
     "name": "stdout",
     "output_type": "stream",
     "text": [
      "Aadhar number is :7166 0230 3578 \n",
      "{'Name': 'Godaba Kanakamahalakshmi Tejashwini', 'Date of Birth': '10/09/1994', 'Adhaar Number': '7166 0230 3578 ', 'Sex': 'FEMALE', 'ID Type': 'Adhaar'}\n"
     ]
    }
   ],
   "source": [
    "print(adhaar_read_data(teju))"
   ]
  },
  {
   "cell_type": "code",
   "execution_count": 10,
   "metadata": {},
   "outputs": [
    {
     "name": "stdout",
     "output_type": "stream",
     "text": [
      "= varnmnent of India\n",
      "\n",
      "APG eas / Enrollment No.: 0651/60064/04443\n",
      "\n",
      "To\n",
      "\n",
      "Godaba Kanakamahalakshmi Tejashwini\n",
      "\n",
      "Raw gasmotud, de%d\n",
      "\n",
      "C/O Godaba Rama Sankara Ramesh,\n",
      "\n",
      "Flat No-401,Pavan Radha Residency,\n",
      "\n",
      "Yendada,\n",
      "\n",
      "(| HOME Backside),\n",
      "\n",
      "Madhurawada,\n",
      "\n",
      "VTC: Visakhapatnam (Urban), PO: Gitam Engg. College,\n",
      "\n",
      "Sub District: Visakhapatnam (urban), District: Visakhapatnam,\n",
      "State: Andhra Pradesh, PIN Code: 530045,\n",
      "\n",
      "Mobile: 7396322600\n",
      "\n",
      "HAN IAAL\n",
      "KF027423802FI\n",
      "\n",
      "18/09/2014\n",
      "\n",
      "02742380\n",
      "\n",
      "2» ward Hox / Your Aadhaar No. :\n",
      "\n",
      "7166 0230 3578\n",
      "\n",
      "wz evqrd, a 406022)\n",
      "\n",
      "Raw ssesoated) daid\n",
      "\n",
      "Godaba Kanakamahalakshmi Tejashwini\n",
      "pps 84 / DOs: 10/09/1994\n",
      "\n",
      "4/ Female\n",
      "\n",
      "18/09/2014\n",
      "\n",
      "7166 0230 3578\n",
      "we e9er5, a M602\n",
      "\n",
      "\n"
     ]
    }
   ],
   "source": [
    "img = Image.open(\"aadhar_tej.jpg\")\n",
    "teju_ful = pytesseract.image_to_string(img)\n",
    "  \n",
    "# Displaying the extracted text\n",
    "print(teju_ful)"
   ]
  },
  {
   "cell_type": "code",
   "execution_count": 14,
   "metadata": {},
   "outputs": [
    {
     "name": "stdout",
     "output_type": "stream",
     "text": [
      "{'Name': 'Godaba Kanakamahalakshmi Tejashwini', 'Date of Birth': '10/09/1994', 'Adhaar Number': '7166 0230 3578', 'Sex': 'FEMALE', 'ID Type': 'Adhaar'}\n"
     ]
    }
   ],
   "source": [
    "print(adhaar_read_data(teju_ful))"
   ]
  },
  {
   "cell_type": "code",
   "execution_count": 41,
   "metadata": {},
   "outputs": [],
   "source": [
    "def findword(textlist , wordstring) :\n",
    "    lineno = -1\n",
    "    for wordline in textlist :\n",
    "        xx = wordline.split()\n",
    "        if ([ w for w in xx if re.search(wordstring , w) ]) :\n",
    "            lineno = textlist.index(wordline)\n",
    "            textlist = textlist[ lineno + 1 : ]\n",
    "            return textlist\n",
    "    return textlist"
   ]
  },
  {
   "cell_type": "code",
   "execution_count": 45,
   "metadata": {},
   "outputs": [
    {
     "name": "stdout",
     "output_type": "stream",
     "text": [
      "['ay/ FEMALE', '9988 9306 8966']\n"
     ]
    }
   ],
   "source": [
    "print(findword(test1, \"DOB\"))"
   ]
  },
  {
   "cell_type": "code",
   "execution_count": 46,
   "metadata": {},
   "outputs": [],
   "source": [
    "def findword(textlist , wordstring) :\n",
    "    lineno = -1\n",
    "    for wordline in textlist :\n",
    "        xx = wordline.split()\n",
    "        if ([ w for w in xx if re.search(wordstring , w) ]) :\n",
    "            lineno = textlist.index(wordline)\n",
    "            textlist = textlist[ lineno -1 :lineno ]\n",
    "            return textlist\n",
    "    return textlist"
   ]
  },
  {
   "cell_type": "code",
   "execution_count": 58,
   "metadata": {},
   "outputs": [
    {
     "name": "stdout",
     "output_type": "stream",
     "text": [
      "['Munnangi Sripriya']\n"
     ]
    }
   ],
   "source": [
    "print(findword(test1, \":\"))"
   ]
  },
  {
   "cell_type": "code",
   "execution_count": 15,
   "metadata": {},
   "outputs": [
    {
     "name": "stdout",
     "output_type": "stream",
     "text": [
      "bd Government ofindia =\n",
      "35628 IBS\n",
      "Devarashetty Nithin\n",
      "Dga 84 / DOB : 09/05/1992\n",
      "WOowed / Male\n",
      "\n",
      "iS\n",
      "\n",
      "2911 9695 9020 ssc®\n",
      "\n",
      "esor — PAPARD SPS.\n"
     ]
    }
   ],
   "source": [
    "img = Image.open(\"nithin.jpeg\")\n",
    "Nithin = pytesseract.image_to_string(img)\n",
    "  \n",
    "# Displaying the extracted text\n",
    "print(Nithin[:-1])"
   ]
  },
  {
   "cell_type": "code",
   "execution_count": 16,
   "metadata": {},
   "outputs": [
    {
     "name": "stdout",
     "output_type": "stream",
     "text": [
      "{'Name': 'Devarashetty Nithin', 'Date of Birth': '09/05/1992', 'Adhaar Number': '2911 9695 9020', 'Sex': 'MALE', 'ID Type': 'Adhaar'}\n"
     ]
    }
   ],
   "source": [
    "print(adhaar_read_data(Nithin))"
   ]
  },
  {
   "cell_type": "code",
   "execution_count": 17,
   "metadata": {},
   "outputs": [
    {
     "name": "stdout",
     "output_type": "stream",
     "text": [
      "WSS YaveAIc0\n",
      "\n",
      "3562 IBS\n",
      "\n",
      "Devarashetty Nithin\n",
      "\n",
      "Mga 84 / DOB : 09/05/1992\n",
      "WwW / Male\n",
      "\n",
      "2911 9695 9020 &m\n",
      "\n",
      "= PAPAS re,\n",
      "\n"
     ]
    }
   ],
   "source": [
    "img = Image.open(\"raw.jpeg\")\n",
    "Nit = pytesseract.image_to_string(img)\n",
    "  \n",
    "# Displaying the extracted text\n",
    "print(Nit[:-1])"
   ]
  },
  {
   "cell_type": "code",
   "execution_count": 18,
   "metadata": {},
   "outputs": [
    {
     "name": "stdout",
     "output_type": "stream",
     "text": [
      "{'Name': 'Devarashetty Nithin', 'Date of Birth': '09/05/1992', 'Adhaar Number': '2911 9695 9020', 'Sex': 'MALE', 'ID Type': 'Adhaar'}\n"
     ]
    }
   ],
   "source": [
    "print(adhaar_read_data(Nit))"
   ]
  },
  {
   "cell_type": "code",
   "execution_count": null,
   "metadata": {},
   "outputs": [],
   "source": [
    "# import datetime\n",
    "# from datetime import date\n",
    "# import re\n",
    "\n",
    "# match = re.search(r'/(\\d{1,2})/(\\d{1,2})/(\\d{4})/', teju)\n",
    "# date = datetime.datetime.strptime(match.group(), '%Y-%m-%d').date()\n",
    "# print date"
   ]
  },
  {
   "cell_type": "code",
   "execution_count": 99,
   "metadata": {},
   "outputs": [
    {
     "name": "stdout",
     "output_type": "stream",
     "text": [
      "1\n",
      "\n"
     ]
    }
   ],
   "source": [
    "reader = PdfFileReader(\"aadhar_dad.pdf\", \"rb\")\n",
    "number_of_pages = reader.numPages\n",
    "\n",
    "print(number_of_pages)\n",
    "page = reader.pages[0]\n",
    "text = page.extractText()\n",
    "print(text)\n",
    "\n",
    "# Inference: The normal PDFreader can't extract text data from scanned pDFs, Need something else to do this job "
   ]
  },
  {
   "cell_type": "markdown",
   "metadata": {},
   "source": [
    "# Extracting data from scanned PDF"
   ]
  },
  {
   "cell_type": "code",
   "execution_count": 19,
   "metadata": {},
   "outputs": [],
   "source": [
    "#Required libraries\n",
    "\n",
    "from wand.image import Image\n",
    "from PIL import Image as PI\n",
    "import pyocr\n",
    "import pyocr.builders\n",
    "import io"
   ]
  },
  {
   "cell_type": "code",
   "execution_count": 20,
   "metadata": {},
   "outputs": [],
   "source": [
    "tool = pyocr.get_available_tools()[0]"
   ]
  },
  {
   "cell_type": "code",
   "execution_count": 21,
   "metadata": {},
   "outputs": [
    {
     "data": {
      "text/plain": [
       "<module 'pyocr.tesseract' from 'C:\\\\Users\\\\Nikki\\\\anaconda3\\\\lib\\\\site-packages\\\\pyocr\\\\tesseract.py'>"
      ]
     },
     "execution_count": 21,
     "metadata": {},
     "output_type": "execute_result"
    }
   ],
   "source": [
    "tool"
   ]
  },
  {
   "cell_type": "code",
   "execution_count": 22,
   "metadata": {},
   "outputs": [
    {
     "name": "stdout",
     "output_type": "stream",
     "text": [
      "eng\n"
     ]
    }
   ],
   "source": [
    "# you need to check what the language is in the list, in my computer it is eng for [0]\n",
    "lang = tool.get_available_languages()[0]\n",
    "print(lang)"
   ]
  },
  {
   "cell_type": "code",
   "execution_count": 23,
   "metadata": {},
   "outputs": [],
   "source": [
    "req_image = []\n",
    "final_text = []"
   ]
  },
  {
   "cell_type": "code",
   "execution_count": 24,
   "metadata": {},
   "outputs": [],
   "source": [
    "# open the PDF file using wand and convert it to jpeg\n",
    "\n",
    "image_pdf = Image(filename=\"aadhar_dad.pdf\", resolution=350)\n",
    "image_jpeg = image_pdf.convert('jpeg')\n",
    "\n"
   ]
  },
  {
   "cell_type": "markdown",
   "metadata": {},
   "source": [
    "Note: '''If the ghostscript does not setup correctly, this part will raise the error, usually I encounter 798 : \n",
    "the system could not find the file. Here you need not only check the environment path but also do not change the \n",
    "folder’s name, because I change the folder’s name at the beginning, It tooks me a long time to fix this problem'''"
   ]
  },
  {
   "cell_type": "code",
   "execution_count": 25,
   "metadata": {},
   "outputs": [],
   "source": [
    "'''wand has converted all the separate pages in the PDF into separate image blobs. We can loop over them and \n",
    "append them as a blob into the req_image list'''\n",
    "\n",
    "for img in image_jpeg.sequence:\n",
    "    img_page = Image(image=img)\n",
    "    req_image.append(img_page.make_blob('jpeg'))\n"
   ]
  },
  {
   "cell_type": "code",
   "execution_count": 26,
   "metadata": {},
   "outputs": [],
   "source": [
    "# run OCR to get the text\n",
    "\n",
    "for img in req_image: \n",
    "    txt = tool.image_to_string(\n",
    "        PI.open(io.BytesIO(img)),\n",
    "        lang=lang,\n",
    "        builder=pyocr.builders.TextBuilder()\n",
    "    )\n",
    "    final_text.append(txt)"
   ]
  },
  {
   "cell_type": "code",
   "execution_count": 27,
   "metadata": {},
   "outputs": [
    {
     "name": "stdout",
     "output_type": "stream",
     "text": [
      "['SLUC/OLGE -FHO\\n\\n2 ldentification-Authority-o\\n\\nc\\n\\nMovernment oT ind\\n\\nia\\nE-Aadhaar Letter\\n\\nt29Enrolment No.: 0000/00233/18187\\n\\nDevarasetti Upendram (A5d%8 e20gG0) ——\\nC/O,Devarasetti Upendram, 20-7-100/1, Street No 12, Bees o&yH ci haat lala\\n\\nNear Housing Board Colony, Sriram Nagar, B roternsd oy dsin #595 wBohsad age Vosaeoy,\\nKhammam (Urban), Khammam, asd\\n\\nTelangana - 507001 mamta eng Oe seeneiee\\n\\nQo word Hom/ Your Aadhaar No.: INFORMATION\\n\\n46 1 8 7 2 2 3 54 9 1 @ Aadhaar is a proof of identity, not of citizenship.\\n\\n@ To establish identity, authenticate online.\\neel eas Ih @ This is electronically generated letter.\\n\\nSignature valid\\n\\nDiately si E\\nIDENTIFICATHO! HORITY OF INDIA\\nDate: 2015.10.15 2% 28:22 IST\\n\\n= We\\n1800 300 1947 help @ uidai.gov.in www.uidai.gov.in\\nB word Atavotitr Depdv0d. @ Aadhaar is vatid throughout the country.\\nrol .\\nBO word word 869, 28 SO Sarc Sos0d Hedod. @ You need to enrd only once for Aadhaar\\n\\n@ Please update your mobile number and e-mail address. This\\n\\n@ dads Sy dO) AxBd Sond Sotay S-Fooxd 065 Sdrco will help you to avail various services in future.\\n\\nrvSlod Atsvs Dodd Dh) Odiramrvan tod Devotw0d.\\n\\n_ Be.\\n\\nAADHAAR\\n\\nBS63G soogo Oooar sas: Address:\\n\\nC/O,Deverasetf Upendram, 20-7-\\n‘ sha BA DOB: 06/11/1962\\n\\nBoard Colony, Sriram Nagar,\\n100/1, 58 93 12, SP%F s§ Khammam (Urban), Khammam,\\n|| SH / MALE\\n\\nTelangana - 507001\\nSOD GH, B00 6, watv10\\n\\n(ed), mA2}0,\\n\\nOwe - 507001\\n\\n4618 7223 5491 4618 7223 5491\\nUTE-PSPH SPSS TH}, Aadhaar-Aam Admi ka Adhikar\\n\\nScanned with CamScanner']\n"
     ]
    }
   ],
   "source": [
    "print(final_text)"
   ]
  },
  {
   "cell_type": "code",
   "execution_count": 28,
   "metadata": {},
   "outputs": [
    {
     "data": {
      "text/plain": [
       "['SLUC/OLGE -FHO',\n",
       " '2 ldentification-Authority-o',\n",
       " 'c',\n",
       " 'Movernment oT ind',\n",
       " 'ia',\n",
       " 'E-Aadhaar Letter',\n",
       " 't29Enrolment No.: 0000/00233/18187',\n",
       " 'Devarasetti Upendram (A5d%8 e20gG0) ——',\n",
       " 'C/O,Devarasetti Upendram, 20-7-100/1, Street No 12, Bees o&yH ci haat lala',\n",
       " 'Near Housing Board Colony, Sriram Nagar, B roternsd oy dsin #595 wBohsad age Vosaeoy,',\n",
       " 'Khammam (Urban), Khammam, asd',\n",
       " 'Telangana - 507001 mamta eng Oe seeneiee',\n",
       " 'Qo word Hom/ Your Aadhaar No.: INFORMATION',\n",
       " '46 1 8 7 2 2 3 54 9 1 @ Aadhaar is a proof of identity, not of citizenship.',\n",
       " '@ To establish identity, authenticate online.',\n",
       " 'eel eas Ih @ This is electronically generated letter.',\n",
       " 'Signature valid',\n",
       " 'Diately si E',\n",
       " 'IDENTIFICATHO! HORITY OF INDIA',\n",
       " 'Date: 2015.10.15 2% 28:22 IST',\n",
       " '= We',\n",
       " '1800 300 1947 help @ uidai.gov.in www.uidai.gov.in',\n",
       " 'B word Atavotitr Depdv0d. @ Aadhaar is vatid throughout the country.',\n",
       " 'rol .',\n",
       " 'BO word word 869, 28 SO Sarc Sos0d Hedod. @ You need to enrd only once for Aadhaar',\n",
       " '@ Please update your mobile number and e-mail address. This',\n",
       " '@ dads Sy dO) AxBd Sond Sotay S-Fooxd 065 Sdrco will help you to avail various services in future.',\n",
       " 'rvSlod Atsvs Dodd Dh) Odiramrvan tod Devotw0d.',\n",
       " '_ Be.',\n",
       " 'AADHAAR',\n",
       " 'BS63G soogo Oooar sas: Address:',\n",
       " 'C/O,Deverasetf Upendram, 20-7-',\n",
       " '‘ sha BA DOB: 06/11/1962',\n",
       " 'Board Colony, Sriram Nagar,',\n",
       " '100/1, 58 93 12, SP%F s§ Khammam (Urban), Khammam,',\n",
       " '|| SH / MALE',\n",
       " 'Telangana - 507001',\n",
       " 'SOD GH, B00 6, watv10',\n",
       " '(ed), mA2}0,',\n",
       " 'Owe - 507001',\n",
       " '4618 7223 5491 4618 7223 5491',\n",
       " 'UTE-PSPH SPSS TH}, Aadhaar-Aam Admi ka Adhikar',\n",
       " 'Scanned with CamScanner']"
      ]
     },
     "execution_count": 28,
     "metadata": {},
     "output_type": "execute_result"
    }
   ],
   "source": [
    "dad = final_text[0]\n",
    "dad_lines = dad.split(\"\\n\")\n",
    "\n",
    "dad_cleaned = list(filter(None, dad_lines))\n",
    "dad_cleaned"
   ]
  },
  {
   "cell_type": "code",
   "execution_count": 36,
   "metadata": {},
   "outputs": [
    {
     "data": {
      "text/plain": [
       "'SLUC/OLGE -FHO\\n2 ldentification-Authority-o\\nc\\nMovernment oT ind\\nia\\nE-Aadhaar Letter\\nt29Enrolment No.: 0000/00233/18187\\nDevarasetti Upendram (A5d%8 e20gG0) ——\\nC/O,Devarasetti Upendram, 20-7-100/1, Street No 12, Bees o&yH ci haat lala\\nNear Housing Board Colony, Sriram Nagar, B roternsd oy dsin #595 wBohsad age Vosaeoy,\\nKhammam (Urban), Khammam, asd\\nTelangana - 507001 mamta eng Oe seeneiee\\nQo word Hom/ Your Aadhaar No.: INFORMATION\\n46 1 8 7 2 2 3 54 9 1 @ Aadhaar is a proof of identity, not of citizenship.\\n@ To establish identity, authenticate online.\\neel eas Ih @ This is electronically generated letter.\\nSignature valid\\nDiately si E\\nIDENTIFICATHO! HORITY OF INDIA\\nDate: 2015.10.15 2% 28:22 IST\\n= We\\n1800 300 1947 help @ uidai.gov.in www.uidai.gov.in\\nB word Atavotitr Depdv0d. @ Aadhaar is vatid throughout the country.\\nrol .\\nBO word word 869, 28 SO Sarc Sos0d Hedod. @ You need to enrd only once for Aadhaar\\n@ Please update your mobile number and e-mail address. This\\n@ dads Sy dO) AxBd Sond Sotay S-Fooxd 065 Sdrco will help you to avail various services in future.\\nrvSlod Atsvs Dodd Dh) Odiramrvan tod Devotw0d.\\n_ Be.\\nAADHAAR\\nBS63G soogo Oooar sas: Address:\\nC/O,Deverasetf Upendram, 20-7-\\n‘ sha BA DOB: 06/11/1962\\nBoard Colony, Sriram Nagar,\\n100/1, 58 93 12, SP%F s§ Khammam (Urban), Khammam,\\n|| SH / MALE\\nTelangana - 507001\\nSOD GH, B00 6, watv10\\n(ed), mA2}0,\\nOwe - 507001\\n4618 7223 5491 4618 7223 5491\\nUTE-PSPH SPSS TH}, Aadhaar-Aam Admi ka Adhikar\\nScanned with CamScanner'"
      ]
     },
     "execution_count": 36,
     "metadata": {},
     "output_type": "execute_result"
    }
   ],
   "source": [
    "dad_cleaned_str = '\\n'.join(item for item in dad_cleaned)\n",
    "dad_cleaned_str"
   ]
  },
  {
   "cell_type": "code",
   "execution_count": 37,
   "metadata": {},
   "outputs": [
    {
     "name": "stdout",
     "output_type": "stream",
     "text": [
      "{'Name': None, 'Date of Birth': None, 'Adhaar Number': '4618 7223 5491', 'Sex': 'MALE', 'ID Type': 'Adhaar'}\n"
     ]
    }
   ],
   "source": [
    "print(adhaar_read_data(dad_cleaned_str))"
   ]
  },
  {
   "cell_type": "code",
   "execution_count": 39,
   "metadata": {},
   "outputs": [
    {
     "name": "stdout",
     "output_type": "stream",
     "text": [
      "['Governme ent of (fare le)\\n\\ne568 DQ Md0% SOs og\\nUnique Identification Authority of | India\\n\\nSAV Lows / Enrollment No.: 0651/60064/04443\\n\\nTo\\nGodaba Kanakamahalakshmi Tejashwini\\n\\nAdo sdsvd\\'wd, 52269\\n\\nC/O Godaba Rama Sankara Ramesh,\\n\\nFlat No-401,Pavan Radha Residency,\\n\\nYendada,\\n\\n(| HOME Backside),\\n\\nMadhurawada,\\n\\nVTC: Visakhapatnam (Urban), PO: Gitam Engg. College,\\n\\nSub District: Visakhapatnam (urban), District: Visakhapatnam,\\nState: Andhra Pradesh, PIN Code: 530045,\\n\\nMobile: 7396322600\\n\\nWAY\\n\\nKF027423802F1\\n\\n18/09/2014\\n\\n02742380\\n\\n2b ea\" Hos / Your Aadhaar No. :\\n\\n7166 0230 3578\\n\\nww ard, aP (G02)\\n\\na fideo SdsS\\'vd, 3v959\\n_ Godaba Kanakamahalakshmi Tejashwini\\n2yo 34 / DOB: 10/09/1994\\n\\n/ Female\\n\\n18/09/2014\\n\\n7166 0230 3578\\naw ard, aP Mo80%)']\n"
     ]
    }
   ],
   "source": [
    "req_image = []\n",
    "final_text = []\n",
    "\n",
    "image_pdf = Image(filename=\"aadhar_teju.pdf\", resolution=300)\n",
    "image_jpeg = image_pdf.convert('jpeg')\n",
    "\n",
    "for img in image_jpeg.sequence:\n",
    "    img_page = Image(image=img)\n",
    "    req_image.append(img_page.make_blob('jpeg'))\n",
    "\n",
    "for img in req_image: \n",
    "    txt = tool.image_to_string(\n",
    "        PI.open(io.BytesIO(img)),\n",
    "        lang=lang,\n",
    "        builder=pyocr.builders.TextBuilder()\n",
    "    )\n",
    "    final_text.append(txt)\n",
    "    \n",
    "print(final_text)"
   ]
  },
  {
   "cell_type": "code",
   "execution_count": 40,
   "metadata": {},
   "outputs": [
    {
     "data": {
      "text/plain": [
       "['Governme ent of (fare le)',\n",
       " 'e568 DQ Md0% SOs og',\n",
       " 'Unique Identification Authority of | India',\n",
       " 'SAV Lows / Enrollment No.: 0651/60064/04443',\n",
       " 'To',\n",
       " 'Godaba Kanakamahalakshmi Tejashwini',\n",
       " \"Ado sdsvd'wd, 52269\",\n",
       " 'C/O Godaba Rama Sankara Ramesh,',\n",
       " 'Flat No-401,Pavan Radha Residency,',\n",
       " 'Yendada,',\n",
       " '(| HOME Backside),',\n",
       " 'Madhurawada,',\n",
       " 'VTC: Visakhapatnam (Urban), PO: Gitam Engg. College,',\n",
       " 'Sub District: Visakhapatnam (urban), District: Visakhapatnam,',\n",
       " 'State: Andhra Pradesh, PIN Code: 530045,',\n",
       " 'Mobile: 7396322600',\n",
       " 'WAY',\n",
       " 'KF027423802F1',\n",
       " '18/09/2014',\n",
       " '02742380',\n",
       " '2b ea\" Hos / Your Aadhaar No. :',\n",
       " '7166 0230 3578',\n",
       " 'ww ard, aP (G02)',\n",
       " \"a fideo SdsS'vd, 3v959\",\n",
       " '_ Godaba Kanakamahalakshmi Tejashwini',\n",
       " '2yo 34 / DOB: 10/09/1994',\n",
       " '/ Female',\n",
       " '18/09/2014',\n",
       " '7166 0230 3578',\n",
       " 'aw ard, aP Mo80%)']"
      ]
     },
     "execution_count": 40,
     "metadata": {},
     "output_type": "execute_result"
    }
   ],
   "source": [
    "tej = final_text[0]\n",
    "tej_lines = tej.split(\"\\n\")\n",
    "\n",
    "tej_cleaned = list(filter(None, tej_lines))\n",
    "tej_cleaned"
   ]
  },
  {
   "cell_type": "code",
   "execution_count": 42,
   "metadata": {},
   "outputs": [
    {
     "data": {
      "text/plain": [
       "'Governme ent of (fare le)\\ne568 DQ Md0% SOs og\\nUnique Identification Authority of | India\\nSAV Lows / Enrollment No.: 0651/60064/04443\\nTo\\nGodaba Kanakamahalakshmi Tejashwini\\nAdo sdsvd\\'wd, 52269\\nC/O Godaba Rama Sankara Ramesh,\\nFlat No-401,Pavan Radha Residency,\\nYendada,\\n(| HOME Backside),\\nMadhurawada,\\nVTC: Visakhapatnam (Urban), PO: Gitam Engg. College,\\nSub District: Visakhapatnam (urban), District: Visakhapatnam,\\nState: Andhra Pradesh, PIN Code: 530045,\\nMobile: 7396322600\\nWAY\\nKF027423802F1\\n18/09/2014\\n02742380\\n2b ea\" Hos / Your Aadhaar No. :\\n7166 0230 3578\\nww ard, aP (G02)\\na fideo SdsS\\'vd, 3v959\\n_ Godaba Kanakamahalakshmi Tejashwini\\n2yo 34 / DOB: 10/09/1994\\n/ Female\\n18/09/2014\\n7166 0230 3578\\naw ard, aP Mo80%)'"
      ]
     },
     "execution_count": 42,
     "metadata": {},
     "output_type": "execute_result"
    }
   ],
   "source": [
    "tej_cleaned_str = '\\n'.join(item for item in tej_cleaned)\n",
    "tej_cleaned_str"
   ]
  },
  {
   "cell_type": "code",
   "execution_count": 43,
   "metadata": {},
   "outputs": [
    {
     "name": "stdout",
     "output_type": "stream",
     "text": [
      "{'Name': '_ Godaba Kanakamahalakshmi Tejashwini', 'Date of Birth': '10/09/1994', 'Adhaar Number': '7166 0230 3578', 'Sex': 'FEMALE', 'ID Type': 'Adhaar'}\n"
     ]
    }
   ],
   "source": [
    "print(adhaar_read_data(tej_cleaned_str))"
   ]
  },
  {
   "cell_type": "code",
   "execution_count": null,
   "metadata": {},
   "outputs": [],
   "source": []
  }
 ],
 "metadata": {
  "kernelspec": {
   "display_name": "Python 3",
   "language": "python",
   "name": "python3"
  },
  "language_info": {
   "codemirror_mode": {
    "name": "ipython",
    "version": 3
   },
   "file_extension": ".py",
   "mimetype": "text/x-python",
   "name": "python",
   "nbconvert_exporter": "python",
   "pygments_lexer": "ipython3",
   "version": "3.8.3"
  }
 },
 "nbformat": 4,
 "nbformat_minor": 4
}
